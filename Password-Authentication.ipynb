{
 "cells": [
  {
   "cell_type": "code",
   "execution_count": 1,
   "id": "34117aa5-60c8-4123-9e91-bdfff3ee431d",
   "metadata": {},
   "outputs": [
    {
     "name": "stdin",
     "output_type": "stream",
     "text": [
      "Please,enter your username: user938493892\n",
      "Please,enter your password ········\n"
     ]
    },
    {
     "name": "stdout",
     "output_type": "stream",
     "text": [
      "User Verified!\n"
     ]
    }
   ],
   "source": [
    "import getpass\n",
    "database = {\"user938493892\":\"1234CODE32\",\"user28282882\":\"292929\"}\n",
    "username = input(\"Please,enter your username:\")\n",
    "password = getpass.getpass(\"Please,enter your password\")\n",
    "\n",
    "for i in database.keys():\n",
    "    if username == i:\n",
    "        while password != database.get(i):\n",
    "            password = getpass.getpass(\"Please enter your password again: \")\n",
    "        break"
   ]
  },
  {
   "cell_type": "code",
   "execution_count": 1,
   "id": "01f70c87-f97a-48f7-be39-a42f1348ee6d",
   "metadata": {},
   "outputs": [
    {
     "name": "stdin",
     "output_type": "stream",
     "text": [
      "Enter Your Username :  user382828\n",
      "Enter Your Password :  ········\n",
      "Enter Your Password Again :  ········\n"
     ]
    },
    {
     "name": "stdout",
     "output_type": "stream",
     "text": [
      "Verified\n"
     ]
    }
   ],
   "source": [
    "import getpass\n",
    "database = {\"user382828\": \"123456\", \"user383838211\": \"654321\"}\n",
    "username = input(\"Enter Your Username : \")\n",
    "password = getpass.getpass(\"Enter Your Password : \")\n",
    "\n",
    "for i in database.keys():\n",
    "    if username == i:\n",
    "        while password != database.get(i):\n",
    "            password = getpass.getpass(\"Enter Your Password Again : \")\n",
    "        break\n",
    "print(\"Verified\")"
   ]
  },
  {
   "cell_type": "code",
   "execution_count": null,
   "id": "270bc76c-0912-47a7-b5d1-45595120f655",
   "metadata": {},
   "outputs": [],
   "source": []
  }
 ],
 "metadata": {
  "kernelspec": {
   "display_name": "Python 3 (ipykernel)",
   "language": "python",
   "name": "python3"
  },
  "language_info": {
   "codemirror_mode": {
    "name": "ipython",
    "version": 3
   },
   "file_extension": ".py",
   "mimetype": "text/x-python",
   "name": "python",
   "nbconvert_exporter": "python",
   "pygments_lexer": "ipython3",
   "version": "3.9.13"
  }
 },
 "nbformat": 4,
 "nbformat_minor": 5
}
