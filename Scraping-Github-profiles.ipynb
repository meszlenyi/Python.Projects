{
 "cells": [
  {
   "cell_type": "code",
   "execution_count": 3,
   "id": "590e924f-7a8d-490b-9219-a2affb607c05",
   "metadata": {},
   "outputs": [
    {
     "name": "stdout",
     "output_type": "stream",
     "text": [
      "https://avatars.githubusercontent.com/u/101148410?v=4\n"
     ]
    }
   ],
   "source": [
    "import requests\n",
    "from bs4 import BeautifulSoup as bs\n",
    "\n",
    "github_profile = \"https://github.com/meszlenyi\" #add your github name at the end\n",
    "req = requests.get(github_profile)\n",
    "scraper = bs(req.content, \"html.parser\")\n",
    "profile_picture = scraper.find(\"img\", {\"alt\": \"Avatar\"})[\"src\"]\n",
    "print(profile_picture)"
   ]
  },
  {
   "cell_type": "code",
   "execution_count": null,
   "id": "3c2b6620-066d-4dfd-8f8a-e5431abbe267",
   "metadata": {},
   "outputs": [],
   "source": []
  }
 ],
 "metadata": {
  "kernelspec": {
   "display_name": "Python 3 (ipykernel)",
   "language": "python",
   "name": "python3"
  },
  "language_info": {
   "codemirror_mode": {
    "name": "ipython",
    "version": 3
   },
   "file_extension": ".py",
   "mimetype": "text/x-python",
   "name": "python",
   "nbconvert_exporter": "python",
   "pygments_lexer": "ipython3",
   "version": "3.9.13"
  }
 },
 "nbformat": 4,
 "nbformat_minor": 5
}
